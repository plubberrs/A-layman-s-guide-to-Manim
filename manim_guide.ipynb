{
  "nbformat": 4,
  "nbformat_minor": 0,
  "metadata": {
    "colab": {
      "name": "manim-guide.ipynb",
      "provenance": [],
      "collapsed_sections": [
        "KcADXOR285wa",
        "I7kUsaGdM3GW",
        "V6IyJmAr8RN5"
      ],
      "authorship_tag": "ABX9TyNB1uKrvNjhl3c1dmDXHcOM",
      "include_colab_link": true
    },
    "kernelspec": {
      "name": "python3",
      "display_name": "Python 3"
    },
    "language_info": {
      "name": "python"
    }
  },
  "cells": [
    {
      "cell_type": "markdown",
      "metadata": {
        "id": "view-in-github",
        "colab_type": "text"
      },
      "source": [
        "<a href=\"https://colab.research.google.com/github/plubberrs/A-layman-s-guide-to-Manim/blob/main/manim_guide.ipynb\" target=\"_parent\"><img src=\"https://colab.research.google.com/assets/colab-badge.svg\" alt=\"Open In Colab\"/></a>"
      ]
    },
    {
      "cell_type": "markdown",
      "metadata": {
        "id": "EzzzWQtli32X"
      },
      "source": [
        "# Plub's guide to Manim: on Colab\n",
        "\n",
        "FAQs:\n",
        "- What is Colab and why use it?\n",
        "\n",
        "Basically Google python, with some very good tools. It uses its own separate RAM and storage, so don't worry about whether your computer can run the code. Useful, popular python libraries e.g. numpy, tensorflow are pre-installed, which saves you a lot of time. While the free version of Colab is already very useful, there's also an option to pay/subscribe to Colab pro, which will increase RAM and storage size and provide more tools e.g. the terminal.\n",
        "\n",
        "Colab is different from how PyCharm or Visual Studio Code works. It is not an \"IDE\" like those two, rather it is a hosted \"Jupyter Notebook\" service. \n",
        "\n",
        "- What is Manim?\n",
        "\n",
        "Manim is a python-based engine for animating explanatory math videos, first developed by 3B1B (the version is called ManimGL). The version commonly used now is developed by his community instead (called ManimCE). It has very beautiful animations, and loads of tools for math animating which makes your life a lot easier compared to using real animation softwares (especially mine, I cannot draw).\n",
        "\n",
        "- What is this guide?\n",
        "\n",
        "I will walk you through doing basic stuff with Manim on Google Colab, then you can find out more at the [official documentation](https://docs.manim.community/en/stable/). A lot of the explanations I give here will not be technical, e.g. how `class` strutures actually work. This is because I want to show you that codes are supposed to be read like human languages."
      ]
    },
    {
      "cell_type": "markdown",
      "metadata": {
        "id": "De4boMtXzMA5"
      },
      "source": [
        "**My personal tip:**\n",
        "\n",
        "**Real programming is not a compsci class! You will not understand how every line of code works. Only 3B1B's lead developers might, and they are all senior programmers with 10yrs+ of experience. But you will start to pick up on little things as you copy/paste stuff from here and try running it. IMO, the best approach to programming is to try it then learn it, not the other way round.**\n",
        "\n",
        "**If you desperately want to know how harder things work, visit the official documentation or GOOGLE IT. A guy I know used to say that a programmer's salary depends on how well they can Google search. Trustworthy sources for answering Manim-related questions are StackOverflow (of course), [Discussions on GitHub](https://github.com/ManimCommunity/manim/discussions), and the [official Discord server](https://discord.gg/JMj4TMb3).**"
      ]
    },
    {
      "cell_type": "markdown",
      "metadata": {
        "id": "X6eNIwCshrtN"
      },
      "source": [
        "If a code block are ran correctly, there will be a video in the output shell of the block. You can find or download these output videos by clicking the folder button on the left hand side tab (4th from the top) and go to media/videos/content/1080p60."
      ]
    },
    {
      "cell_type": "markdown",
      "metadata": {
        "id": "raLAtjsau08q"
      },
      "source": [
        "## Installations"
      ]
    },
    {
      "cell_type": "markdown",
      "metadata": {
        "id": "3qbBEtIOLlZS"
      },
      "source": [
        "If you try and install Manim on colab by yourself, you will have a very hard time. I highly suggest you ignore how things work in this section, and just run everything for now."
      ]
    },
    {
      "cell_type": "code",
      "metadata": {
        "id": "pNaPUmV79bGv"
      },
      "source": [
        "# <-- click the play button to run the code\n",
        "# this block of code will install everything you need\n",
        "# if you want to use manim on your own Colab notebook, copy everything here\n",
        "!sudo apt update\n",
        "!sudo apt install libcairo2-dev ffmpeg texlive texlive-latex-extra texlive-fonts-extra texlive-latex-recommended texlive-science tipa libpango1.0-dev\n",
        "!pip install manim\n",
        "!pip install IPython --upgrade"
      ],
      "execution_count": null,
      "outputs": []
    },
    {
      "cell_type": "markdown",
      "metadata": {
        "id": "Kj-xTYxLvsbb"
      },
      "source": [
        "^^^ After the shell above is ran, click `RESTART RUNTIME` to enable the newly-installed packs"
      ]
    },
    {
      "cell_type": "code",
      "metadata": {
        "id": "zzAAUVyP9gNC"
      },
      "source": [
        "# import the Manim library\n",
        "from manim import *"
      ],
      "execution_count": null,
      "outputs": []
    },
    {
      "cell_type": "code",
      "metadata": {
        "id": "tIoJBjwIvXe8"
      },
      "source": [
        "# Run an example code to test if imported successfully\n",
        "%%manim -pqh -v WARNING test\n",
        "\n",
        "class test(Scene):\n",
        "   def construct(self):\n",
        "      square = Square()\n",
        "      circle = Circle()\n",
        "      circle.set_fill(PINK, opacity=0.5)\n",
        "      self.play(Create(square))\n",
        "      self.play(Transform(square, circle))\n",
        "      self.wait()"
      ],
      "execution_count": null,
      "outputs": []
    },
    {
      "cell_type": "markdown",
      "metadata": {
        "id": "8eDJmxkpxukE"
      },
      "source": [
        "## Getting started: Shapes"
      ]
    },
    {
      "cell_type": "markdown",
      "metadata": {
        "id": "Aa5TmQYn024P"
      },
      "source": [
        "### Your first scene"
      ]
    },
    {
      "cell_type": "markdown",
      "metadata": {
        "id": "CUiNLnW5sxwL"
      },
      "source": [
        "Let's create your first scene. Try running the code below:"
      ]
    },
    {
      "cell_type": "code",
      "metadata": {
        "id": "U3vmf-g6_Mz_"
      },
      "source": [
        "%%manim -pqh -v WARNING SquareToCircle\n",
        "\n",
        "class SquareToCircle(Scene):\n",
        "    def construct(self):\n",
        "        circle = Circle() # create a circle\n",
        "        circle.set_fill(color=PINK, opacity=0.5)  # set the color and opacity\n",
        "        self.play(Create(circle))  # show the circle on screen"
      ],
      "execution_count": null,
      "outputs": []
    },
    {
      "cell_type": "markdown",
      "metadata": {
        "id": "RZqY3X2ftRNH"
      },
      "source": [
        "You should be creating a pink circle...if yes, then congratulations on your first ever Manim scene! \n",
        "\n",
        "Let's break down some of the codes here:\n",
        "\n",
        "- `SquareToCircle()` is, in python terms, something called a `class`. Classes are like big boxes where you dump everything related to them inside. In our case, everything you want in an animation called `SquareToCircle` is in the class. Inside the bracket, we specify that we want to run this animation on a blank space called `Scene`.\n",
        "- In the class, we have a function `construct()`. Like what its name implies, it creates your animation on `Scene`. We want it to construct...well...its own class, so we might think of specifying `SquareToCircle` inside the bracket of the function, however to avoid mentioning a class's name while in the class, we instead use a special keyword `self` to refer to the class while we're in it.\n",
        "- `circle = Circle()` creates a circle object called `circle`.\n",
        "- `set_fill()` specifies the object's attributes so that its `color` is `PINK` and it has an `opacity` value of `0.5`.\n",
        "- `self.play()` means that the `construct` function tells the class itself to `play()` the animation. In this case, we want it not just to stick `circle` on screen like a powerpoint, but show the creation animation, so we use `Create(circle)` as our animation.\n",
        "\n",
        "The first line of code, as you might have noticed, looks different from the rest. This is because it is not written in python! They are Manim's \"command line arguments\". I will explain later what these are and how you can use them, but what you need to know now is that they are what makes the whole thing run."
      ]
    },
    {
      "cell_type": "markdown",
      "metadata": {
        "id": "9Lrkuris060G"
      },
      "source": [
        "### Some spice"
      ]
    },
    {
      "cell_type": "markdown",
      "metadata": {
        "id": "0pCGgDZ2zGkb"
      },
      "source": [
        "Lets add more stuff to our scene..."
      ]
    },
    {
      "cell_type": "code",
      "metadata": {
        "id": "9-dTkNG-zFBi"
      },
      "source": [
        "%%manim -pql -v WARNING SquareToCircle\n",
        "\n",
        "class SquareToCircle(Scene):\n",
        "    def construct(self):\n",
        "        circle = Circle()  # create a circle\n",
        "        circle.set_fill(color=PINK, opacity=0.5)  # set color and transparency\n",
        "\n",
        "        square = Square()  # create a square\n",
        "        square.rotate(PI/4)  # rotate by PI/4 radians counterclockwise\n",
        "\n",
        "        self.play(Create(square))  # animate the creation of the square\n",
        "        self.play(ReplacementTransform(square, circle))  # transform the square into the circle\n",
        "        self.play(FadeOut(circle))  # fade out animation"
      ],
      "execution_count": null,
      "outputs": []
    },
    {
      "cell_type": "markdown",
      "metadata": {
        "id": "wbEc8Yvc1yV6"
      },
      "source": [
        "The transition from square to circle is really smooth!\n",
        "\n",
        "Some more code breakdowns:\n",
        "\n",
        "- We create a circle and set its attributes like the previous example.\n",
        "- `square = Square()` creates a square object called `square`.\n",
        "- `rotate()` specifies how many (radians) the object will be tilted when the animation is played. In this case, we want our `square` to tilt by `PI/4` radians (counterclockwise), which tilts it into a diamond.\n",
        "- `self.play()` works like before, but instead this time we want the specified animation to be `Create(square)`, which shows the creation animation of our tilted square. \n",
        "- `ReplacementTransform(square, circle)` does exactly what its name suggested, which is morphing our square into our circle. Of course, this animation also is wrapped in `self.play()`.\n",
        "- Finally, `FadeOut(circle)` fades out the circle."
      ]
    },
    {
      "cell_type": "markdown",
      "metadata": {
        "id": "-yIGfyp-Wj86"
      },
      "source": [
        "**Congratulations! You now know how to make simple shapes!**\n",
        "\n",
        "Some helpful notes:\n",
        "\n",
        "- A list of all geometric shapes in Manim and their guides are [here](https://docs.manim.community/en/stable/reference/manim.mobject.geometry.html), if you want to try some more shapes.\n",
        "\n",
        "- `FadeOut()` animation is actually the counterpart of `FadeIn()` animation. I'll let you guess what this one does...\n",
        "\n",
        "- Similarly, `Create()` animation also has its counterpart, `Uncreate()`. Again, I'll let you guess..."
      ]
    },
    {
      "cell_type": "markdown",
      "metadata": {
        "id": "ex9I3R5l8Kmk"
      },
      "source": [
        "*Try now (just copy/paste my code into your own colab file and change it up a bit)* \n",
        "\n",
        "- *Animate a 'creation' of a blue square using `color=BLUE` and `Create()`.*\n",
        "- *Transform your blue square into a pink circle, then fade out.*\n",
        "\n",
        "**When you run an animation on your own Colab file, the first line goes into this pattern: `%%manim -pqh -v WARNING {your class name}`.**"
      ]
    },
    {
      "cell_type": "markdown",
      "metadata": {
        "id": "KcADXOR285wa"
      },
      "source": [
        "## Texts"
      ]
    },
    {
      "cell_type": "markdown",
      "metadata": {
        "id": "_E1KEXHdmfey"
      },
      "source": [
        "### General text stuffs"
      ]
    },
    {
      "cell_type": "markdown",
      "metadata": {
        "id": "UvavzKO587Yi"
      },
      "source": [
        "You can also display text and equations. In Manim, usually I use three text creation methods.\n",
        "\n",
        "Try and compare them to each other below:"
      ]
    },
    {
      "cell_type": "code",
      "metadata": {
        "id": "e8JgSh0p87mP"
      },
      "source": [
        "%%manim -pqh -v WARNING text_example\n",
        "\n",
        "class text_example(Scene):\n",
        "    def construct(self):\n",
        "        # normal, microsoft-word-ish texts\n",
        "        text = Text('Hello world', color=YELLOW)\n",
        "        text.scale(2)\n",
        "        self.play(Write(text))\n",
        "        self.wait()"
      ],
      "execution_count": null,
      "outputs": []
    },
    {
      "cell_type": "code",
      "metadata": {
        "id": "icRryjLgIQ8r"
      },
      "source": [
        "%%manim -pqh -v WARNING mathtex_example\n",
        "\n",
        "class mathtex_example(Scene):\n",
        "    def construct(self):\n",
        "        # Manim will treat this like a math equation...think of how you type in Desmos\n",
        "        text = MathTex('f(x) = x^2', color=YELLOW)\n",
        "        text.scale(2) \n",
        "        self.play(Write(text))\n",
        "        self.wait()"
      ],
      "execution_count": null,
      "outputs": []
    },
    {
      "cell_type": "code",
      "metadata": {
        "id": "qjBPfSAgIDUG"
      },
      "source": [
        "%%manim -pqh -v WARNING tex_example\n",
        "\n",
        "class tex_example(Scene):\n",
        "    def construct(self):\n",
        "        # mix of the first two\n",
        "        text = Tex('The function $f(x) = x^2$', color=YELLOW)\n",
        "        text.scale(2) \n",
        "        self.play(Write(text))\n",
        "        self.wait()"
      ],
      "execution_count": null,
      "outputs": []
    },
    {
      "cell_type": "markdown",
      "metadata": {
        "id": "wHdJiq6ai0Ca"
      },
      "source": [
        "Discussions about the text types:\n",
        "\n",
        "The way I think about it, `Text()` and `MathTex()` are specifically made for texts and math equations, respectively. However, occasionally there is a need to put normal texts and equations in the same line, and that's where `Tex()` comes in. When using `Tex()`, you need to tell Manim which part is a normal text and which part is an equation. You do this by adding `$` at the start and the end of your equation.\n",
        "\n"
      ]
    },
    {
      "cell_type": "markdown",
      "metadata": {
        "id": "fAduxILDelLW"
      },
      "source": [
        "Code breakdowns:\n",
        "\n",
        "- As discussed, `Text()`, `Tex()`, and `MathTex()` are all different ways to create texts. Inside the bracket, type in your message. FYI, in this animation the variable name for the object is `text`.\n",
        "- `scale()` scales your object by a certain scale factor. In this animation our text is scaled by `3`.\n",
        "- The animation `Write(text)` makes it look like someone is writing your `text`. Once again, because it's an animation function, it is wrapped inside `self.play()`.\n",
        "- `self.wait()` makes the animation wait for a certain amount of time. Inside the bracket you can specify the number of seconds you want it to wait. If you don't specify, it will wait for 1 second. "
      ]
    },
    {
      "cell_type": "markdown",
      "metadata": {
        "id": "29V0jZAemacD"
      },
      "source": [
        "### LaTeX"
      ]
    },
    {
      "cell_type": "markdown",
      "metadata": {
        "id": "rJSz8v5mmTcq"
      },
      "source": [
        "Here is how you would animate writing the quadratic formula in Manim:"
      ]
    },
    {
      "cell_type": "code",
      "metadata": {
        "id": "GRxtwMVFmqO0"
      },
      "source": [
        "%%manim -pqh -v WARNING MoreMathTex\n",
        "\n",
        "class MoreMathTex(Scene):\n",
        "    def construct(self):\n",
        "        eqn = MathTex(\"x = \\\\frac{- b \\\\pm \\\\sqrt{b^2 - 4ac}}{2a}\") # This is \"LaTeX\"\n",
        "        eqn.scale(2)\n",
        "        self.play(Write(eqn))\n",
        "        self.wait()"
      ],
      "execution_count": null,
      "outputs": []
    },
    {
      "cell_type": "markdown",
      "metadata": {
        "id": "mD_gYYp5oFJW"
      },
      "source": [
        "\"What is this weird Equation typing language??\", You asked.\n",
        "\n",
        "They are written in something called \"LaTeX\". You don't need to know LaTeX by heart, but occasionally you would need to type a weird symbol like an integral sign ( $\\int$ ). When that time comes, browse [here](https://oeis.org/wiki/List_of_LaTeX_mathematical_symbols) to find out how to type math symbols.\n",
        "\n",
        "In this example:\n",
        "\n",
        "- Type `\\\\frac{}{}` for fractions. The numerator goes into the first bracket, and the denominator goes into the second.\n",
        "- `\\\\pm` is the plus-or-minus sign.\n",
        "- Put whatever you want to square root inside the brackets of `\\\\sqrt{}`"
      ]
    },
    {
      "cell_type": "markdown",
      "metadata": {
        "id": "Kz4H9HUUnsgO"
      },
      "source": [
        "**For more on texts, visit [this link](https://docs.manim.community/en/stable/reference/manim.mobject.svg.text_mobject.html) for all things `text` and [this link](https://docs.manim.community/en/stable/reference/manim.mobject.svg.tex_mobject.html) for all things `tex`.**"
      ]
    },
    {
      "cell_type": "markdown",
      "metadata": {
        "id": "rPaQAeVGpO9W"
      },
      "source": [
        "## Positionings"
      ]
    },
    {
      "cell_type": "markdown",
      "metadata": {
        "id": "I7kUsaGdM3GW"
      },
      "source": [
        "### Basic positionings"
      ]
    },
    {
      "cell_type": "markdown",
      "metadata": {
        "id": "BSbohgDU6O8n"
      },
      "source": [
        "So far we have learnt how to create shapes and texts, but what if we want to position them somewhere?"
      ]
    },
    {
      "cell_type": "code",
      "metadata": {
        "id": "qvIn58zspUUH"
      },
      "source": [
        "%%manim -pqh -v WARNING CircleMove\n",
        "\n",
        "class CircleMove(Scene):\n",
        "    def construct(self):\n",
        "        circle1 = Circle().set_fill(color=PINK, opacity=0.5) # merge two commands together\n",
        "        circle2 = Circle().set_fill(color=GREEN, opacity=0.5)\n",
        "        circle2.move_to(RIGHT * 3 + UP * 2) # move 3 units right and 2 units up\n",
        "\n",
        "        self.play(Create(circle1))\n",
        "        self.wait()\n",
        "        self.play(Create(circle2))\n",
        "        self.wait()"
      ],
      "execution_count": null,
      "outputs": []
    },
    {
      "cell_type": "markdown",
      "metadata": {
        "id": "06qdJ0fp89pr"
      },
      "source": [
        "The center of `circle1` is still in the middle of the canvas, since I haven't move it anywhere. However, you can see that the center of `circle2` moved 3 units to the right and 2 units upwards.\n",
        "\n",
        "Code breakdowns:\n",
        "\n",
        "- Instead of writing two lines, `circle1 = Circle()` and `circle1.set_fill()`, you can actually merge them together into one line like above. Pretty convenient, right?\n",
        "- `move_to()` moves your object somewhere. In this case, we moved `circle2` 3 units to the right and 2 units upwards."
      ]
    },
    {
      "cell_type": "markdown",
      "metadata": {
        "id": "SCxlHO-1_RGT"
      },
      "source": [
        "What if you want to position objects by the edges or the corners of the canvas?"
      ]
    },
    {
      "cell_type": "code",
      "metadata": {
        "id": "aTdyRGws_ZSr"
      },
      "source": [
        "%%manim -pqh -v WARNING CircleEdge\n",
        "\n",
        "class CircleEdge(Scene):\n",
        "    def construct(self):\n",
        "        circle1 = Circle().to_edge(UP) # move to top edge\n",
        "        circle2 = Circle().to_corner(UR, buff=SMALL_BUFF) # move to top right corner with a small buff\n",
        "        circle3 = Circle().to_corner(DL, buff=LARGE_BUFF) # move to bottom left corner with a large buff\n",
        "\n",
        "        self.play(Create(circle1))\n",
        "        self.wait()\n",
        "        self.play(Create(circle2))\n",
        "        self.wait()\n",
        "        self.play(Create(circle3))\n",
        "        self.wait()"
      ],
      "execution_count": null,
      "outputs": []
    },
    {
      "cell_type": "markdown",
      "metadata": {
        "id": "BEe9Hgy_q6Wd"
      },
      "source": [
        "There's a bit more going on in this example...\n",
        "\n",
        "- `to_edge()` moves your object to the edges of the canvas. Inside the bracket, type `UP`, `DOWN`, `RIGHT`, and `LEFT` to move it accordingly.\n",
        "- `to_corner()` moves your object to the corners of the canvas. Inside the bracket, type `UR` for top right, `UL` for top left, `DR` for bottom right, and `DL` for bottom left corner.\n",
        "- In these two methods, another thing you can specify is the *distance between the object and the edges/corners*. This is called `buff` in Manim. You can set the buff with integers, or you can use these four; `SMALL_BUFF`, `MED_SMALL_BUFF`, `MED_LARGE_BUFF`, and `LARGE_BUFF`. If not specified, Manim will automatically go with `MED_LARGE_BUFF`. "
      ]
    },
    {
      "cell_type": "markdown",
      "metadata": {
        "id": "YYkeTxA5_HMX"
      },
      "source": [
        "### Grouping things together"
      ]
    },
    {
      "cell_type": "markdown",
      "metadata": {
        "id": "lw_w8Rlk_VbM"
      },
      "source": [
        "This will be your first long example...brace yourself, because I will be cranking up the difficulty!"
      ]
    },
    {
      "cell_type": "code",
      "metadata": {
        "id": "qfmjqCc2_LFY"
      },
      "source": [
        "%%manim -pqh -v WARNING CircleToEllipse\n",
        "\n",
        "class CircleToEllipse(Scene):\n",
        "    def construct(self):\n",
        "        # All the shapes are here\n",
        "        circle = Circle().set_fill(color=RED, opacity=0.5)\n",
        "        ellipse = Circle().set_fill(color=RED, opacity=0.5).stretch(2, dim=0)\n",
        "        line = Line(start=(-1, 0, 0), end=(1, 0, 0)).set_stroke(color=RED)\n",
        "        dot1 = Dot((-1, 0, 0), color=YELLOW)\n",
        "        dot2 = Dot((1, 0, 0), color=YELLOW)\n",
        "\n",
        "        # All the labels are here\n",
        "        circle_label = Text(\"Circle\", color=GREEN).next_to(circle, UR, buff=MED_SMALL_BUFF)\n",
        "        ellipse_label = Text(\"Ellipse\", color=GREEN).next_to(ellipse, UR, buff=MED_SMALL_BUFF)\n",
        "        lines_dots_label = Text(\"Lines and Dots\", color=GREEN).next_to(line, UP, buff=LARGE_BUFF)\n",
        "\n",
        "        # Grouping\n",
        "        circle_group = VGroup(circle, circle_label)\n",
        "        ellipse_group = VGroup(ellipse, ellipse_label)\n",
        "        lines_dots_group = VGroup(line, dot1, dot2, lines_dots_label)\n",
        "\n",
        "        # Actual animation playing\n",
        "        self.add(circle, circle_label)\n",
        "        self.wait()\n",
        "        self.play(ReplacementTransform(circle_group, ellipse_group), run_time=2)\n",
        "        self.wait()\n",
        "        self.play(FadeOut(ellipse_group))\n",
        "        self.play(FadeIn(lines_dots_group))\n",
        "        self.wait()"
      ],
      "execution_count": null,
      "outputs": []
    },
    {
      "cell_type": "markdown",
      "metadata": {
        "id": "zlWUqKr4CFlk"
      },
      "source": [
        "The code here is quite long, so you might not know where to start reading at first glance. My trick is to first read the animation playing codes at the bottom to get a vague idea of what's going on, then watch the video output. After that, start looking at the code for shapes and texts to get the details. Lastly, look at the grouping of objects.\n",
        "\n",
        "New things:\n",
        "\n",
        "- `stretch()` stretches your object by a certain factor, along a certain axis. In the example the circle is stretched by a factor of `2` along the x-axis, `dim=0`. If you want the y-axis, you can do `dim=1` instead. \n",
        "- `Line()` creates a line. Our line starts at the coordinates (-1, 0, 0) and ends at (1, 0, 0).\n",
        "- `Dot()` creates a point at a specified coordinate inside the bracket.\n",
        "- `next_to()` places your object next to another existing object. In the example, the label for the circle is placed next to it in the top right side `UR` with a buff of `MED_SMALL_BUFF`.\n",
        "- `VGroup()` is a sneaky way to group things together so that you have a slightly easier time writing the animation part of your code. In this example, `circle_group` groups `circle` and `circle_label` together.\n",
        "- Inside `self.play()` you can also set the animation duration in seconds, using `run_time`.\n",
        "- It's a little weird that I haven't introduced this before, but `self.add()` simply adds objects to the canvas without any animation."
      ]
    },
    {
      "cell_type": "markdown",
      "metadata": {
        "id": "MEXqUnJS8w1R"
      },
      "source": [
        "**Now you have some more things to play with and some more experience coding, you should be able to do some pretty amazing things!**\n",
        "\n",
        "*Try now:*\n",
        "- *Create a red circle, place a dot at its center, and create + label the radius $r$ for the circle. Then, use `Tex()` to write \"$Area = \\pi r^2$\" next to the circle's top right side (to write $\\pi$, type `\\\\pi`).*\n",
        "\n",
        "**When you run an animation on your own Colab file, the first line goes into this pattern: `%%manim -pqh -v WARNING {your class name}`.**"
      ]
    },
    {
      "cell_type": "markdown",
      "metadata": {
        "id": "V6IyJmAr8RN5"
      },
      "source": [
        "## Coordinate systems & Graphs"
      ]
    },
    {
      "cell_type": "markdown",
      "metadata": {
        "id": "jprWJGEajzHz"
      },
      "source": [
        "### Coordinate systems"
      ]
    },
    {
      "cell_type": "markdown",
      "metadata": {
        "id": "NSi_MX46t3BI"
      },
      "source": [
        "Next, we will look at Manim's coordinate systems. One important thing that you need to understand is that when you use Manim's axes or numberplanes, there will be (mainly) 2 different ways to use coordinates in Manim.\n",
        "\n",
        "- Coordinates relative to *your main animation canvas*. The `RIGHT`, `LEFT`, `UP`, and `DOWN` we've been using with the `move_to()` method counts as this.\n",
        "- Coordinates relative to *the axes you created*. You navigate around using vectors.\n",
        "\n",
        "This concept might be a bit hard to grasp, so let's try the example below:"
      ]
    },
    {
      "cell_type": "code",
      "metadata": {
        "id": "74hdHprZt3TT"
      },
      "source": [
        "%%manim -sqh -v WARNING CoordsToPointExample\n",
        "\n",
        "class CoordsToPointExample(Scene):\n",
        "    def construct(self):\n",
        "        ax = Axes().add_coordinates()\n",
        "\n",
        "        # a dot with respect to the axes\n",
        "        dot_axes = Dot(ax.coords_to_point(2, 2), color=GREEN)\n",
        "        lines = ax.get_lines_to_point(ax.c2p(2,2))\n",
        "\n",
        "        # a dot with respect to the scene\n",
        "        # the default plane corresponds to the coordinates of the scene.\n",
        "        plane = NumberPlane()\n",
        "        dot_scene = Dot((2,2,0), color=RED)\n",
        "\n",
        "        self.add(plane, dot_scene, ax, dot_axes, lines)"
      ],
      "execution_count": null,
      "outputs": []
    },
    {
      "cell_type": "markdown",
      "metadata": {
        "id": "bHbko5N9RpLm"
      },
      "source": [
        "FYI, if you only write and animate a class without any actual animations, Manim would output a picture.\n",
        "\n",
        "In the example, the green dot is at the coordinates (2, 2) relative to the axes `ax`, while the red dot is at the coordinates (2, 2) relative to the Manim scene (canvas).\n",
        "\n",
        "- `Axes()` creates a set of 2D axes, and `add_coordinates()` does exactly what its name suggests.\n",
        "- Inside the brackets of `Dot()`, put a normal `(x, y, z)` coordinates to use the coordinate system relative to the scene, and put `ax.coords_to_point(x, y, z)` or `ax.c2p(x, y, z)` to use the coordinate system relative to `ax`.\n",
        "- `get_lines_to_point()` draw dashed lines from the axes to the coordinates specified inside the bracket. This works with the `c2p()` coordinates method, not the normal one.\n",
        "- `NumberPlane()` creates a 2D number plane. The default number plane use the same set of normal coordinates as the Manim scene, but you can also use the `c2p()` coordinates method."
      ]
    },
    {
      "cell_type": "markdown",
      "metadata": {
        "id": "GbFbkcZsj4od"
      },
      "source": [
        "### Axes configuration"
      ]
    },
    {
      "cell_type": "markdown",
      "metadata": {
        "id": "1CVEJEXLj6qU"
      },
      "source": [
        "What if you want your axes to show only the first quadrant (+x, +y)? What if you want to change the length or the thickness of the lines? What if you want a green axes? Let's look at how you can configure your axes."
      ]
    },
    {
      "cell_type": "markdown",
      "metadata": {
        "id": "Y37nNLvjVmBJ"
      },
      "source": [
        "But first, you need to introduce yourself to \"dictionaries\" (or in Java, \"hashmaps\"). It looks like this:\n",
        "```python\n",
        "Plub_dict = {\"name\": \"Plub\", \"age\": 15, \"school\": \"Harrow\"}\n",
        "```\n",
        "This thing really works like a vocab dictionary. Whenever I say `Plub_dict[\"name\"]`, python will look into the dictionary called `Plub_dict` and find whatever corresponds to `\"name\"`, which in this case is `\"Plub\"`.\n",
        "\n",
        "So, when you see\n",
        "```python\n",
        "axis_config = {\"color\": GREEN}\n",
        "```\n",
        "You know that this is a dictionary, one which tells Manim that `\"color\"` of the axis is `GREEN`.\n",
        "\n",
        "Now, try the example below:"
      ]
    },
    {
      "cell_type": "code",
      "metadata": {
        "id": "EgYp3StiQS0l"
      },
      "source": [
        "%%manim -sqh -v WARNING AxesConfig\n",
        "\n",
        "class AxesConfig(Scene):\n",
        "    def construct(self):\n",
        "        axes = Axes(\n",
        "            x_range=[-10, 10.3, 1],\n",
        "            y_range=[-1.5, 1.5, 1],\n",
        "            x_length=10,\n",
        "            axis_config={\"color\": GREEN},\n",
        "            x_axis_config={\n",
        "                \"numbers_to_include\": np.arange(-10, 10.01, 2),\n",
        "                \"numbers_with_elongated_ticks\": np.arange(-10, 10.01, 2)\n",
        "            },\n",
        "            tips=False,\n",
        "        )\n",
        "\n",
        "        self.add(axes)"
      ],
      "execution_count": null,
      "outputs": []
    },
    {
      "cell_type": "markdown",
      "metadata": {
        "id": "bL5Qu0FdTLhY"
      },
      "source": [
        "As you can see, there are multiple things you can do with your axes.\n",
        "\n",
        "- `x_range` and `y_range` specify the ranges (in numbers) of your x-axis and y-axis respectively. It takes in a list of real numbers in the pattern `[start, end, steps]`. In the example, the x-axis starts at -10, ends at 10.3, and is ticked every 1.\n",
        "- `x_length` and `y_length` specify the length of your x-axis and y-axis respectively. In this example, the x-axis has a length of 10 units (relative to the main Manim coordinate system, and not the axes!).\n",
        "- `axis_config` allows you to configure the whole axes, while `x_axis_config` and `y_axis_config` only configure their own axis. `\"numbers_to_include\"` wants a list of all numbers you want the axes to display, and `\"numbers_with_elongated_ticks\"` wants a list of all the numbers you want to have bigger ticks than normal.\n",
        "- `np.arange(start, end, step)` is a little complicated. But essentially, it would be tiring to type in a whole lot of numbers you want displayed on your axes. In the example above, you don't want to spend time typing `[-10, -8, -6, ..., 6, 8, 10]`. So, you would use `np.arange(-10, 10.01, 2)` which means the you want the list containing every number from -10 to just before 10.01, counting every 2.\n",
        "- `tips` check whether you want arrows for your axes. This can be set using `True` or `False`.\n"
      ]
    },
    {
      "cell_type": "markdown",
      "metadata": {
        "id": "b4uwv79VVbqp"
      },
      "source": [
        "**Programmer tip:**\n",
        "```python\n",
        "x_axis_config={\"numbers_to_include\": np.arange(-10, 10.01, 2), \"numbers_with_elongated_ticks\": np.arange(-10, 10.01, 2)}\n",
        "```\n",
        "**and**\n",
        "```python\n",
        "x_axis_config={\n",
        "      \"numbers_to_include\": np.arange(-10, 10.01, 2),\n",
        "      \"numbers_with_elongated_ticks\": np.arange(-10, 10.01, 2)\n",
        "      }\n",
        "```\n",
        "**means the exact same thing. The second way is used for when you have a lot of code to put in, it just looks more clean and readable.**"
      ]
    },
    {
      "cell_type": "markdown",
      "metadata": {
        "id": "wc9DWiA0ndJb"
      },
      "source": [
        "**If you want more on coordinate systems, the official documentation is [here](https://docs.manim.community/en/stable/reference/manim.mobject.coordinate_systems.html).**"
      ]
    },
    {
      "cell_type": "markdown",
      "metadata": {
        "id": "qslVrIoxjw1Z"
      },
      "source": [
        "### Graphs"
      ]
    },
    {
      "cell_type": "markdown",
      "metadata": {
        "id": "a-NZdvC__noT"
      },
      "source": [
        "Manim has a very neat and easy way to draw graphs. To do that, you need to write functions in programmers' ways, namely by using `lambda` and `def`. Here are some examples:"
      ]
    },
    {
      "cell_type": "markdown",
      "metadata": {
        "id": "jp7T_hYJX7em"
      },
      "source": [
        "Math: $f(x) = x + 1$\n",
        "\n",
        "Lambda: `lambda x: x + 1`\n",
        "\n",
        "Def: \n",
        "```python\n",
        "def func(x):\n",
        "    return x + 1\n",
        "```"
      ]
    },
    {
      "cell_type": "markdown",
      "metadata": {
        "id": "KdUtNHu2X9WY"
      },
      "source": [
        "Math: $f(x) = x^2 - 2$\n",
        "\n",
        "Lambda: `lambda x: x**2 - 2`\n",
        "\n",
        "Def:\n",
        "```python\n",
        "def func(x):\n",
        "    return x**2 - 2\n",
        "```"
      ]
    },
    {
      "cell_type": "markdown",
      "metadata": {
        "id": "eAyofyuCYmL2"
      },
      "source": [
        "Once you see the pattern, you're ready to graph on Manim."
      ]
    },
    {
      "cell_type": "code",
      "metadata": {
        "id": "cQdA7Pie_n37"
      },
      "source": [
        "%%manim -pqh -v WARNING GraphExample\n",
        "\n",
        "class GraphExample(Scene):\n",
        "    def construct(self):\n",
        "        ax = Axes().add_coordinates()\n",
        "\n",
        "        # Using `def`\n",
        "        def func(x):\n",
        "            return x + 1\n",
        "            \n",
        "        linear_graph = ax.get_graph(func, color=RED)\n",
        "        linear_label = ax.get_graph_label(linear_graph, \"f(x) = x + 1\")\n",
        "\n",
        "        # Using `lambda`\n",
        "        quad_graph = ax.get_graph(lambda x: x**2 - 2, color=GREEN)\n",
        "        quad_label = ax.get_graph_label(quad_graph, \"g(x) = x^2 - 2\", x_val=0, direction=DR)\n",
        "\n",
        "        self.add(ax)\n",
        "        self.play(Create(linear_graph), Write(linear_label), run_time=2)\n",
        "        self.wait()\n",
        "        self.play(Create(quad_graph), Write(quad_label), run_time=2)\n",
        "        self.wait()"
      ],
      "execution_count": null,
      "outputs": []
    },
    {
      "cell_type": "markdown",
      "metadata": {
        "id": "DG6ABMoiiRPJ"
      },
      "source": [
        "- `ax.get_graph()` creates a graph using the coordinates relative to `ax`.\n",
        "- `ax.get_graph_label()` creates a label for the graph specified inside the bracket, relative to `ax`. You can also specify the x-coordinate position of the label with `x_val` and the direction from that position with `direction`; `UP`, `DOWN`, `RIGHT`, `LEFT`, `UR`, `UL`, `DR`, and `DL`. In the example, the label for the quadratic graph is positioned bottom-right to where $x = 0$.\n",
        "- `self.play()` can actually play two or more animations at once!"
      ]
    },
    {
      "cell_type": "markdown",
      "metadata": {
        "id": "Z2eRXXf3aEgl"
      },
      "source": [
        "### Parametric graphs"
      ]
    },
    {
      "cell_type": "markdown",
      "metadata": {
        "id": "1bYB4zMDaGjw"
      },
      "source": [
        "You might wonder, what if you want to graph a circle? Things like\n",
        "\n",
        "$$x^2 + y^2 = 1$$\n",
        "\n",
        "can't really be written using `def` or `lambda`.\n",
        "\n",
        "Here is where \"parametric functions\" come in. Instead of defining a function in terms of $y$'s relationship with $x$, we defining a parametric function by creating a new, common variable e.g. $t$ for time, then define $x$ and $y$'s relationship with $t$. To demonstrate, we can define a parametric function like so:\n",
        "\n",
        "$$x(t) = \\cos{t}$$\n",
        "$$y(t) = \\sin{t}$$\n",
        "\n",
        "This means that as a graph, your x-coordinate progresses by $\\cos{t}$ and your y-coordinate progresses by $\\sin{t}$.\n",
        "\n",
        "**(To my Y11 school friends: parametric functions are in A-level Maths Pure 4, so good job if you get it!)**\n",
        "\n",
        "In `def` and `lambda` form, you might write this like:\n",
        "```python\n",
        "lambda t: np.array([\n",
        "    np.cos(t),\n",
        "    np.sin(t),\n",
        "    0\n",
        "])\n",
        "```\n",
        "or\n",
        "```python\n",
        "def func(t):\n",
        "    return np.array([\n",
        "        np.cos(t),\n",
        "        np.sin(t),\n",
        "        0\n",
        "    ])\n",
        "```\n",
        "\n",
        "The example below helps you graph a circle as a parametric function:"
      ]
    },
    {
      "cell_type": "code",
      "metadata": {
        "id": "kxbnHwKscD0E"
      },
      "source": [
        "%%manim -pqh -v WARNING ParametricExample\n",
        "\n",
        "class ParametricExample(Scene):\n",
        "    def construct(self):\n",
        "        plane = NumberPlane()\n",
        "\n",
        "        # Parametric function using `def`\n",
        "        def CircleFunc1(t):\n",
        "            return np.array([np.cos(t), np.sin(t), 0])\n",
        "        \n",
        "        circle1 = ParametricFunction(\n",
        "            CircleFunc1, \n",
        "            t_range = [0, 2*PI, 0.01],\n",
        "            color=BLUE\n",
        "        )\n",
        "\n",
        "        # Parametric function using `lambda`\n",
        "        CircleFunc2 = lambda t: np.array([2*np.cos(t), 2*np.sin(t), 0])\n",
        "        circle2 = ParametricFunction(\n",
        "            CircleFunc2,\n",
        "            t_range = [0, 2*PI, 0.01],\n",
        "            color=YELLOW\n",
        "        )\n",
        "\n",
        "        self.add(plane)\n",
        "        self.play(Create(circle1), run_time=2)\n",
        "        self.wait()\n",
        "        self.play(Create(circle2), run_time=2)\n",
        "        self.wait()"
      ],
      "execution_count": null,
      "outputs": []
    },
    {
      "cell_type": "markdown",
      "metadata": {
        "id": "-oDTGqqggfXx"
      },
      "source": [
        "Here are our circles graphed!\n",
        "\n",
        "- `ParametricFunction()` defines you a parametric function. Inside the bracket you need 2 essential things; the function itself (written using `def` or `lambda`), and `t_range` (how far you want `t` to go, written in the pattern `[start, end, step]`. In this example, $\\sin{t}$ and $\\cos{t}$ both have a period of $2\\pi$, so `t` starts from 0, ends at $2\\pi$, **and samples every 0.01 (important! This is what determines the \"smoothness\" of your graph. You need this to be a small number!)**"
      ]
    },
    {
      "cell_type": "markdown",
      "metadata": {
        "id": "eejS-DL1kc7R"
      },
      "source": [
        "**Congratulations for making it this far! You will hopefully gotten very good at reading codes at this point. The official documentation for `ParametricFunction` is [here](https://docs.manim.community/en/stable/reference/manim.mobject.functions.ParametricFunction.html#manim.mobject.functions.ParametricFunction).**\n",
        "\n",
        "*Try now:*\n",
        "\n",
        "- Graph $f(x) = 0.5x^2 + x - 3$ on either `Axes()` or `NumberPlane()`. Then, use `Dots()` to label the two real roots and display their coordinates using `MathTex()`.\n",
        "- Graph, using `ParametricFunction`,\n",
        "\n",
        "$$x(t) = (1 + \\cos{5t})(\\cos{t})$$\n",
        "$$y(t) = (1 + \\cos{5t})(\\sin{t})$$\n",
        "\n",
        "**When you run an animation on your own Colab file, the first line goes into this pattern: `%%manim -pqh -v WARNING {your class name}`.**"
      ]
    },
    {
      "cell_type": "markdown",
      "metadata": {
        "id": "O6NGouirBLib"
      },
      "source": [
        "## Animations"
      ]
    },
    {
      "cell_type": "markdown",
      "metadata": {
        "id": "f5kkk7M11yhN"
      },
      "source": [
        "### Basic animations"
      ]
    },
    {
      "cell_type": "markdown",
      "metadata": {
        "id": "efwhfD9c347x"
      },
      "source": [
        "Let's recap some things and explore some new animation functions..."
      ]
    },
    {
      "cell_type": "code",
      "metadata": {
        "id": "q-DZgm1S10T5"
      },
      "source": [
        "%%manim -pqh -v WARNING PointMovingOnShapes\n",
        "\n",
        "class PointMovingOnShapes(Scene):\n",
        "    def construct(self):\n",
        "        circle = Circle(radius=1, color=BLUE)\n",
        "        dot = Dot()\n",
        "        dot2 = dot.copy().shift(RIGHT)\n",
        "        self.add(dot)\n",
        "\n",
        "        line = Line([3, 0, 0], [5, 0, 0])\n",
        "        self.add(line)\n",
        "\n",
        "        self.play(GrowFromCenter(circle))\n",
        "        self.play(ReplacementTransform(dot, dot2))\n",
        "        self.play(MoveAlongPath(dot2, circle), run_time=2)\n",
        "        self.play(Rotating(dot2, about_point=[2, 0, 0]), run_time=1.5)\n",
        "        self.wait()"
      ],
      "execution_count": null,
      "outputs": []
    },
    {
      "cell_type": "markdown",
      "metadata": {
        "id": "o2r3tOTR38He"
      },
      "source": [
        "- `dot2 = dot.copy()` is very sneaky. This code copies whatever `dot` is into `dot2`.\n",
        "- `GrowFromCenter()` creates your object by growing it from its center.\n",
        "- `MoveAlongPath()` moves the first object you put into its bracket along the path of the second object you put into its bracket.\n",
        "- `Rotating()` rotates your object about a specified coordinate."
      ]
    },
    {
      "cell_type": "markdown",
      "metadata": {
        "id": "J_p1ixVY5osH"
      },
      "source": [
        "### Rate functions"
      ]
    },
    {
      "cell_type": "markdown",
      "metadata": {
        "id": "STW5xf4j7zsD"
      },
      "source": [
        "What if you want to control not only the animation duration, but its rate too? What I mean by rate is that, for example, you might want the animation to play slowly at first, then speeds up, then slows down at the end."
      ]
    },
    {
      "cell_type": "code",
      "metadata": {
        "id": "Z8T_giLo6qSc"
      },
      "source": [
        "%%manim -pqh -v WARNING RateFunctionsExample\n",
        "\n",
        "class RateFunctionsExample(Scene):\n",
        "    def construct(self):\n",
        "        line1 = Line(3*LEFT, 3*RIGHT).shift(UP).set_color(RED)\n",
        "        line2 = Line(3*LEFT, 3*RIGHT).set_color(GREEN)\n",
        "        line3 = Line(3*LEFT, 3*RIGHT).shift(DOWN).set_color(BLUE)\n",
        "\n",
        "        dot1 = Dot().move_to(line1.get_left())\n",
        "        dot2 = Dot().move_to(line2.get_left())\n",
        "        dot3 = Dot().move_to(line3.get_left())\n",
        "\n",
        "        label1 = Tex(\"Linear\").next_to(line1, RIGHT)\n",
        "        label2 = Tex(\"Smooth\").next_to(line2, RIGHT)\n",
        "        label3 = Tex(\"There and Back\").next_to(line3, RIGHT)\n",
        "\n",
        "        self.play(\n",
        "            FadeIn(VGroup(line1, line2, line3)),\n",
        "            FadeIn(VGroup(dot1, dot2, dot3)),\n",
        "            Write(VGroup(label1, label2, label3)),\n",
        "        )\n",
        "        self.play(MoveAlongPath(dot1, line1, rate_func=linear), run_time=2)\n",
        "        self.play(MoveAlongPath(dot2, line2, rate_func=smooth), run_time=2)\n",
        "        self.play(MoveAlongPath(dot3, line3, rate_func=there_and_back), run_time=2)\n",
        "        self.wait()"
      ],
      "execution_count": null,
      "outputs": []
    },
    {
      "cell_type": "markdown",
      "metadata": {
        "id": "6rPuMFwz8RYP"
      },
      "source": [
        "- `line1.get_left()` fetches whatever coordinates are for `line1`'s most leftward point.\n",
        "- `rate_func` can be specified like above, and you will get the results as displayed in the video. The three main rate functions that I use are `linear`, `smooth`, and `there_and_back`."
      ]
    },
    {
      "cell_type": "markdown",
      "metadata": {
        "id": "Kk4EG_-9pVFg"
      },
      "source": [
        "### Using `animate` and `ApplyMethod`"
      ]
    },
    {
      "cell_type": "markdown",
      "metadata": {
        "id": "FMG-9EoMsri9"
      },
      "source": [
        "In your animation, if you want to move things, you might do something like this:\n",
        "\n",
        "```python\n",
        "circle1 = Circle()\n",
        "circle2 = Circle().move_to(RIGHT)\n",
        "\n",
        "self.play(Create(circle1))\n",
        "self.play(ReplacementTransform(circle1, circle2))\n",
        "```\n",
        "\n",
        "This works, but there's a problem. What if you want to move your circle 10 times? Creating 10 circles might potentially be quite a strain on your processing time. Which means, this code is not very optimised ~~and you don't wanna end up like YandereDev~~. Here I will show you some of the better ways to animate:"
      ]
    },
    {
      "cell_type": "code",
      "metadata": {
        "id": "dfT2R5-_uYwy"
      },
      "source": [
        "%%manim -pqh -v WARNING MoveExample\n",
        "\n",
        "class MoveExample(Scene):\n",
        "    def construct(self):\n",
        "        square = Square().set_fill(color=WHITE, opacity=0.5)\n",
        "\n",
        "        self.play(Create(square))\n",
        "        self.wait()\n",
        "        # Move around a lot\n",
        "        self.play(ApplyMethod( square.move_to, (2, 2, 0) ), run_time=0.5)\n",
        "        self.play(ApplyMethod( square.move_to, (2, -2, 0) ), run_time=0.5)\n",
        "        self.play(ApplyMethod( square.move_to, (-2, -2, 0) ), run_time=0.5)\n",
        "        self.play(ApplyMethod( square.move_to, (-2, 2, 0) ), run_time=0.5)\n",
        "        self.play(ApplyMethod( square.move_to, ORIGIN ), run_time=0.5)\n",
        "        self.wait()\n",
        "        # Set fill color\n",
        "        self.play(square.animate.set_fill(color=RED))\n",
        "        self.play(square.animate.set_fill(color=BLUE))\n",
        "        self.play(square.animate.set_fill(color=YELLOW))\n",
        "        self.play(square.animate.set_fill(color=GREEN))\n",
        "        self.wait()"
      ],
      "execution_count": null,
      "outputs": []
    },
    {
      "cell_type": "markdown",
      "metadata": {
        "id": "C6WYVOxHxL4r"
      },
      "source": [
        "How convenient! We just turned `move_to()` and `set_fill()`, which are normally non-animation functions, into animations!\n",
        "\n",
        "When you use apply method, be careful of how you use it...here is a comparison of `move_to` as a function vs. as an `ApplyMethod` animation:\n",
        "\n",
        "- `square.move_to( (2, 2, 0) )`\n",
        "\n",
        "- `ApplyMethod( square.move_to, (2, 2, 0) )`\n",
        "\n",
        "You can see the coordinates that was inside `move_to()`, when we use `ApplyMethod`, it migrates. However, using `animate` does not really change the syntax of the code much.\n",
        "\n",
        "You can almost use these two interchangably when animating methods."
      ]
    },
    {
      "cell_type": "markdown",
      "metadata": {
        "id": "TLu6mqUnpaRp"
      },
      "source": [
        "### Using `ValueTracker` and updaters"
      ]
    },
    {
      "cell_type": "markdown",
      "metadata": {
        "id": "DumUdHzrDPWR"
      },
      "source": [
        "Here is a way to animate more ambitious and sophisticated animations:"
      ]
    },
    {
      "cell_type": "code",
      "metadata": {
        "id": "pPizKpjc9Xtl"
      },
      "source": [
        "%%manim -pqh -v WARNING MovingDots\n",
        "\n",
        "class MovingDots(Scene):\n",
        "    def construct(self):\n",
        "        # shapes\n",
        "        d1, d2 = Dot(color=BLUE), Dot(color=GREEN).shift(RIGHT)\n",
        "        line = Line(d1.get_center(), d2.get_center()).set_color(RED)\n",
        "\n",
        "        # `ValueTracker`s\n",
        "        x_tracker = ValueTracker(0)\n",
        "        y_tracker = ValueTracker(0)\n",
        "        \n",
        "        # updaters\n",
        "        d1.add_updater(\n",
        "            lambda z: z.set_x( x_tracker.get_value() )\n",
        "        )\n",
        "\n",
        "        d2.add_updater(\n",
        "            lambda z: z.set_y( y_tracker.get_value() )\n",
        "        )\n",
        "\n",
        "        line.add_updater(\n",
        "            lambda z: z.become(\n",
        "                Line(d1.get_center(), d2.get_center())\n",
        "            )\n",
        "        )\n",
        "        \n",
        "        # animate by changing the value of two `ValueTracker`s\n",
        "        self.add(d1,d2,line)\n",
        "        self.play(x_tracker.animate.set_value(5))\n",
        "        self.play(y_tracker.animate.set_value(3))\n",
        "        self.play(x_tracker.animate.set_value(-4))\n",
        "        self.play(y_tracker.animate.set_value(-2))\n",
        "        self.wait()"
      ],
      "execution_count": null,
      "outputs": []
    },
    {
      "cell_type": "markdown",
      "metadata": {
        "id": "jqljK2pkEner"
      },
      "source": [
        "- `shift()` shifts an object by some specified amount. In this case it is `RIGHT` or `(1, 0, 0)`.\n",
        "- `d1.get_center()` returns the coordinates of `d1`'s center.\n",
        "- In this example, we set `d1`'s x-coordinate and `d2`'s y-coordinate according to the value of `x_tracker` and `y_tracker` respectively. This means that we can \"turn the dial\" on `x_tracker` and `y_tracker` to animate. This is the use of `ValueTracker`; a value which we can dial up/down at will.\n",
        "- Inside the bracket of `ValueTracker()` we can specify an initial value that the tracker starts off with.\n",
        "- `add_updater()` takes in a function (using `lambda` or `def`) which changes an attribute of the object. Here we set the x-coordinate of `d1` to equal to `x_tracker` at any time, and y-coordinate of `d2` to equal to `y_tracker` at any time.\n",
        "- Then finally, we animate by dialing up/down the trackers using `animate.set_value()`."
      ]
    },
    {
      "cell_type": "markdown",
      "metadata": {
        "id": "o_lGV1FtLER-"
      },
      "source": [
        "**Now the only thing left you need to know is the first line of the code (that I mentioned before about it being \"command line arguments\"). You have made it so far!**\n",
        "\n",
        "*Try now:*\n",
        "\n",
        "- *Animate a swinging pendulum, using `ValueTracker` (to track the angle $\\theta$ ) and `add_updater()`. Make it as realistic as possible using `rate_func=there_and_back`. You can animate multiple periods using a `for` loop.*"
      ]
    },
    {
      "cell_type": "markdown",
      "metadata": {
        "id": "AS10vDrKNikV"
      },
      "source": [
        "![Simple_gravity_pendulum.svg.png](data:image/png;base64,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)"
      ]
    },
    {
      "cell_type": "markdown",
      "metadata": {
        "id": "zpOHoX9fBYAW"
      },
      "source": [
        "## CLI flags & Rendering options"
      ]
    },
    {
      "cell_type": "markdown",
      "metadata": {
        "id": "nq3gVLgxBXVT"
      },
      "source": [
        "Lastly, let's look at Manim's command line arguments, a.k.a. the first line of all my code blocks. \n",
        "\n",
        "When accessing Manim without running anything, do `%manim` like so:\n",
        "\n"
      ]
    },
    {
      "cell_type": "code",
      "metadata": {
        "id": "v8zrJIpTPjnz"
      },
      "source": [
        "%manim --help"
      ],
      "execution_count": null,
      "outputs": []
    },
    {
      "cell_type": "markdown",
      "metadata": {
        "id": "Fr1EDFo7ThQF"
      },
      "source": [
        "When you want to run a scene, do `%%manim {scene name}` like so:"
      ]
    },
    {
      "cell_type": "code",
      "metadata": {
        "id": "k5L5sxX3PkRQ"
      },
      "source": [
        "%%manim SquareToCircle\n",
        "\n",
        "class SquareToCircle(Scene):\n",
        "   def construct(self):\n",
        "      square = Square()\n",
        "      circle = Circle()\n",
        "      circle.set_fill(PINK, opacity=0.5)\n",
        "      self.play(Create(square))\n",
        "      self.play(Transform(square, circle))\n",
        "      self.wait()"
      ],
      "execution_count": null,
      "outputs": []
    },
    {
      "cell_type": "markdown",
      "metadata": {
        "id": "DEFiKYdDT7E8"
      },
      "source": [
        "Notice that there are cryptic codes output before the video comes. You can hide them partially by doing `%%manim -v WARNING {scene name}`. What this means is that `-v` or `--verbose`, what programmers call the cryptic codes, is hidden and will only show themselves when there is a warning or an error."
      ]
    },
    {
      "cell_type": "code",
      "metadata": {
        "id": "9sq2AcLWTkZx"
      },
      "source": [
        "%%manim -v WARNING SquareToCircle\n",
        "\n",
        "class SquareToCircle(Scene):\n",
        "   def construct(self):\n",
        "      square = Square()\n",
        "      circle = Circle()\n",
        "      circle.set_fill(PINK, opacity=0.5)\n",
        "      self.play(Create(square))\n",
        "      self.play(Transform(square, circle))\n",
        "      self.wait()"
      ],
      "execution_count": null,
      "outputs": []
    },
    {
      "cell_type": "markdown",
      "metadata": {
        "id": "d3px61iLXrGg"
      },
      "source": [
        "Let's look at rendering:\n",
        "\n",
        "- If you want to render as video, do `-p`. If you want to render as picture (will snap only the last frame of the animation), do `-s`.\n",
        "- You can specify the animation quality by doing `-ql` for low, `-qm` for medium, `-qh` for high, and `-qk` for 4K. \n",
        "\n",
        "So to combine the two options together, for example, you do `-pqh` to render as high quality video, which is what I've always done."
      ]
    },
    {
      "cell_type": "code",
      "metadata": {
        "id": "RhSVCjUWXpEA"
      },
      "source": [
        "%%manim -pqh -v WARNING SquareToCircle\n",
        "\n",
        "class SquareToCircle(Scene):\n",
        "   def construct(self):\n",
        "      square = Square()\n",
        "      circle = Circle()\n",
        "      circle.set_fill(PINK, opacity=0.5)\n",
        "      self.play(Create(square))\n",
        "      self.play(Transform(square, circle))\n",
        "      self.wait()"
      ],
      "execution_count": null,
      "outputs": []
    },
    {
      "cell_type": "markdown",
      "metadata": {
        "id": "Q-hWVDIZYfeY"
      },
      "source": [
        "# Footnote\n",
        "\n",
        "- **Parts of this guide is copied from the official documentation and only paraphrased by myself. The link to the documentation is at the very top.**\n",
        "- **Please support the Manim Development Team for their amazing work!**"
      ]
    }
  ]
}